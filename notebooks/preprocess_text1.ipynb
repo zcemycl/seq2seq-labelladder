{
 "cells": [
  {
   "cell_type": "code",
   "execution_count": 1,
   "metadata": {},
   "outputs": [],
   "source": [
    "import numpy as np\n",
    "import pandas as pd\n",
    "import nltk\n",
    "from tqdm import tqdm\n",
    "PATH = \"../../classification_dataset.csv\"\n",
    "df = pd.read_csv(PATH)\n",
    "from nltk.corpus import stopwords\n",
    "import string\n",
    "from nltk import word_tokenize"
   ]
  },
  {
   "cell_type": "code",
   "execution_count": 2,
   "metadata": {},
   "outputs": [
    {
     "name": "stderr",
     "output_type": "stream",
     "text": [
      "[nltk_data] Downloading package wordnet to /home/yui/nltk_data...\n",
      "[nltk_data]   Package wordnet is already up-to-date!\n",
      "[nltk_data] Downloading package averaged_perceptron_tagger to\n",
      "[nltk_data]     /home/yui/nltk_data...\n",
      "[nltk_data]   Package averaged_perceptron_tagger is already up-to-\n",
      "[nltk_data]       date!\n"
     ]
    },
    {
     "data": {
      "text/plain": [
       "True"
      ]
     },
     "execution_count": 2,
     "metadata": {},
     "output_type": "execute_result"
    }
   ],
   "source": [
    "nltk.download('wordnet')\n",
    "nltk.download('averaged_perceptron_tagger')"
   ]
  },
  {
   "cell_type": "code",
   "execution_count": 3,
   "metadata": {},
   "outputs": [],
   "source": [
    "import matplotlib.pyplot as plt\n",
    "from nltk.corpus import wordnet\n",
    "from nltk.stem import WordNetLemmatizer"
   ]
  },
  {
   "cell_type": "code",
   "execution_count": 4,
   "metadata": {},
   "outputs": [],
   "source": [
    "lem = WordNetLemmatizer()\n",
    "stop = set(stopwords.words('english') + list(string.punctuation))\n",
    "words = set(nltk.corpus.words.words())"
   ]
  },
  {
   "cell_type": "code",
   "execution_count": 6,
   "metadata": {},
   "outputs": [],
   "source": [
    "def get_wordnet_pos(word):\n",
    "    \"\"\"Map POS tag to first character lemmatize() accepts\"\"\"\n",
    "    tag = nltk.pos_tag([word])[0][1][0].upper()\n",
    "    tag_dict = {\"J\": wordnet.ADJ,\n",
    "                \"N\": wordnet.NOUN,\n",
    "                \"V\": wordnet.VERB,\n",
    "                \"R\": wordnet.ADV}\n",
    "\n",
    "    return tag_dict.get(tag, wordnet.NOUN)"
   ]
  },
  {
   "cell_type": "code",
   "execution_count": 7,
   "metadata": {},
   "outputs": [
    {
     "name": "stderr",
     "output_type": "stream",
     "text": [
      "100%|██████████| 342781/342781 [34:25<00:00, 165.96it/s]\n"
     ]
    }
   ],
   "source": [
    "df['filter_text'] = \"\"\n",
    "for i in tqdm(range(df.shape[0])):\n",
    "    df['filter_text'].iloc[i]=\" \".join(lem.lemmatize(w,get_wordnet_pos(w)) \\\n",
    "        for w in nltk.wordpunct_tokenize(df['text'].iloc[i].lower()) \\\n",
    "         if w.lower() in words and \\\n",
    "            w.lower() not in stop)"
   ]
  },
  {
   "cell_type": "code",
   "execution_count": 8,
   "metadata": {},
   "outputs": [],
   "source": [
    "df['textcount']=[len(df['filter_text'].iloc[i].split())\\\n",
    "                 for i in range(df.shape[0])]"
   ]
  },
  {
   "cell_type": "code",
   "execution_count": 9,
   "metadata": {},
   "outputs": [
    {
     "data": {
      "text/plain": [
       "count    342781.000000\n",
       "mean         37.987105\n",
       "std          36.402756\n",
       "min           0.000000\n",
       "25%          13.000000\n",
       "50%          26.000000\n",
       "75%          50.000000\n",
       "max         372.000000\n",
       "Name: textcount, dtype: float64"
      ]
     },
     "execution_count": 9,
     "metadata": {},
     "output_type": "execute_result"
    }
   ],
   "source": [
    "df['textcount'].describe()"
   ]
  },
  {
   "cell_type": "code",
   "execution_count": 10,
   "metadata": {},
   "outputs": [
    {
     "data": {
      "image/png": "[encoded data removed]",
      "text/plain": [
       "<Figure size 640x480 with 1 Axes>"
      ]
     },
     "metadata": {},
     "output_type": "display_data"
    }
   ],
   "source": [
    "df.boxplot(column=['textcount'])\n",
    "plt.show()"
   ]
  },
  {
   "cell_type": "code",
   "execution_count": 11,
   "metadata": {},
   "outputs": [
    {
     "data": {
      "text/html": [
       "<div>\n",
       "<style scoped>\n",
       "    .dataframe tbody tr th:only-of-type {\n",
       "        vertical-align: middle;\n",
       "    }\n",
       "\n",
       "    .dataframe tbody tr th {\n",
       "        vertical-align: top;\n",
       "    }\n",
       "\n",
       "    .dataframe thead th {\n",
       "        text-align: right;\n",
       "    }\n",
       "</style>\n",
       "<table border=\"1\" class=\"dataframe\">\n",
       "  <thead>\n",
       "    <tr style=\"text-align: right;\">\n",
       "      <th></th>\n",
       "      <th>text</th>\n",
       "      <th>l1</th>\n",
       "      <th>l2</th>\n",
       "      <th>l3</th>\n",
       "      <th>filter_text</th>\n",
       "      <th>textcount</th>\n",
       "    </tr>\n",
       "  </thead>\n",
       "  <tbody>\n",
       "    <tr>\n",
       "      <th>0</th>\n",
       "      <td>Ronald \\\"Ron\\\" D. Boire is an American busines...</td>\n",
       "      <td>Agent</td>\n",
       "      <td>Person</td>\n",
       "      <td>BusinessPerson</td>\n",
       "      <td>businessman executive several noble canada r u</td>\n",
       "      <td>7</td>\n",
       "    </tr>\n",
       "    <tr>\n",
       "      <th>1</th>\n",
       "      <td>Astra 1KR is one of the Astra geostationary sa...</td>\n",
       "      <td>Place</td>\n",
       "      <td>Satellite</td>\n",
       "      <td>ArtificialSatellite</td>\n",
       "      <td>one replacement reach orbit launch launch firs...</td>\n",
       "      <td>40</td>\n",
       "    </tr>\n",
       "    <tr>\n",
       "      <th>2</th>\n",
       "      <td>Cycleryon is an extinct genus of decapod crust...</td>\n",
       "      <td>Species</td>\n",
       "      <td>Animal</td>\n",
       "      <td>Crustacean</td>\n",
       "      <td>extinct genus decapod type specie live</td>\n",
       "      <td>6</td>\n",
       "    </tr>\n",
       "    <tr>\n",
       "      <th>3</th>\n",
       "      <td>Angela Maria of the Heart of Jesus, also calle...</td>\n",
       "      <td>Agent</td>\n",
       "      <td>Cleric</td>\n",
       "      <td>Saint</td>\n",
       "      <td>maria heart also maria maria march german trin...</td>\n",
       "      <td>12</td>\n",
       "    </tr>\n",
       "  </tbody>\n",
       "</table>\n",
       "</div>"
      ],
      "text/plain": [
       "                                                text       l1         l2  \\\n",
       "0  Ronald \\\"Ron\\\" D. Boire is an American busines...    Agent     Person   \n",
       "1  Astra 1KR is one of the Astra geostationary sa...    Place  Satellite   \n",
       "2  Cycleryon is an extinct genus of decapod crust...  Species     Animal   \n",
       "3  Angela Maria of the Heart of Jesus, also calle...    Agent     Cleric   \n",
       "\n",
       "                    l3                                        filter_text  \\\n",
       "0       BusinessPerson     businessman executive several noble canada r u   \n",
       "1  ArtificialSatellite  one replacement reach orbit launch launch firs...   \n",
       "2           Crustacean             extinct genus decapod type specie live   \n",
       "3                Saint  maria heart also maria maria march german trin...   \n",
       "\n",
       "   textcount  \n",
       "0          7  \n",
       "1         40  \n",
       "2          6  \n",
       "3         12  "
      ]
     },
     "execution_count": 11,
     "metadata": {},
     "output_type": "execute_result"
    }
   ],
   "source": [
    "df.head(4)"
   ]
  },
  {
   "cell_type": "code",
   "execution_count": 21,
   "metadata": {},
   "outputs": [
    {
     "name": "stdout",
     "output_type": "stream",
     "text": [
      "Ronald \\\"Ron\\\" D. Boire is an American businessman. He has served as an executive for several companies, including Barnes & Noble, Brookstone, Sears Canada and Toys R Us.\n",
      "businessman executive several noble canada r u\n",
      "-----------------\n",
      "Astra 1KR is one of the Astra geostationary satellites owned by SES. It was launched in April 2006 as a replacement for Astra 1K, which failed to reach orbit on launch in 2002. The launch of Astra 1KR was the first attempted by SES since the Astra 1K failure. The craft launched to 3.4° east for testing, before moving to Astra 19.2°E, where it replaced Astra 1B, which was effectively decommissioned, and Astra 1C, which was then elderly and running beneath full capacity. It was expected to also replace Astra 2C, which was under-utilised, and to allow that satellite to return to Astra 28.2°E to join 2A/2B/2D to provide additional capacity. However, SES stated that Astra 1L would replace Astra 2C. The first signals from the craft at 19.2° east were direct replacements for four transponders on the failing Astra 1E.\n",
      "one replacement reach orbit launch launch first since failure craft east test move e effectively elderly run beneath full capacity also replace allow satellite return e join provide additional capacity however state would replace first craft east direct four fail\n",
      "-----------------\n",
      "Cycleryon is an extinct genus of decapod crustaceans. The type species is Cycleryon propinquus. These epifaunal carnivores lived during the Jurassic of Germany and France, from 164.7 to 161.2 Ma.\n",
      "extinct genus decapod type specie live\n",
      "-----------------\n"
     ]
    }
   ],
   "source": [
    "for i in range(df.shape[0]):\n",
    "    print(df['text'].iloc[i])\n",
    "    print(df['filter_text'].iloc[i])\n",
    "    print('-----------------')\n",
    "    if i==2:\n",
    "        break"
   ]
  },
  {
   "cell_type": "code",
   "execution_count": 23,
   "metadata": {
    "scrolled": true
   },
   "outputs": [
    {
     "name": "stderr",
     "output_type": "stream",
     "text": [
      "100%|██████████| 342781/342781 [12:41<00:00, 450.26it/s]\n"
     ]
    }
   ],
   "source": [
    "df['filter_text2']=\"\"\n",
    "for i in tqdm(range(df.shape[0])):\n",
    "    df['filter_text2'].iloc[i]=\\\n",
    "    \" \".join(np.unique(df['filter_text'].iloc[i].split(' ')))"
   ]
  },
  {
   "cell_type": "code",
   "execution_count": 24,
   "metadata": {},
   "outputs": [],
   "source": [
    "df['textcount2']=[len(df['filter_text2'].iloc[i].split())\\\n",
    "                 for i in range(df.shape[0])]"
   ]
  },
  {
   "cell_type": "code",
   "execution_count": 25,
   "metadata": {},
   "outputs": [
    {
     "data": {
      "text/plain": [
       "count    342781.000000\n",
       "mean         28.685411\n",
       "std          24.549798\n",
       "min           0.000000\n",
       "25%          11.000000\n",
       "50%          21.000000\n",
       "75%          38.000000\n",
       "max         208.000000\n",
       "Name: textcount2, dtype: float64"
      ]
     },
     "execution_count": 25,
     "metadata": {},
     "output_type": "execute_result"
    }
   ],
   "source": [
    "df['textcount2'].describe()"
   ]
  },
  {
   "cell_type": "code",
   "execution_count": 26,
   "metadata": {},
   "outputs": [
    {
     "data": {
      "image/png": "[encoded data removed]",
      "text/plain": [
       "<Figure size 640x480 with 1 Axes>"
      ]
     },
     "metadata": {},
     "output_type": "display_data"
    }
   ],
   "source": [
    "df.boxplot(column=['textcount2'])\n",
    "plt.show()"
   ]
  },
  {
   "cell_type": "code",
   "execution_count": 30,
   "metadata": {},
   "outputs": [
    {
     "data": {
      "text/plain": [
       "7055"
      ]
     },
     "execution_count": 30,
     "metadata": {},
     "output_type": "execute_result"
    }
   ],
   "source": [
    "len([1 for i in range(df.shape[0]) if df['textcount2'].iloc[i]>100])"
   ]
  },
  {
   "cell_type": "code",
   "execution_count": 31,
   "metadata": {},
   "outputs": [
    {
     "data": {
      "text/plain": [
       "0.020581654175698186"
      ]
     },
     "execution_count": 31,
     "metadata": {},
     "output_type": "execute_result"
    }
   ],
   "source": [
    "7055/342781"
   ]
  },
  {
   "cell_type": "code",
   "execution_count": 20,
   "metadata": {},
   "outputs": [],
   "source": [
    "with open('../data/tmp.txt','w') as f:\n",
    "    for i in range(df.shape[0]):\n",
    "        tar = \",\".join([df['l1'].iloc[i].lower(),\n",
    "                        df['l2'].iloc[i].lower(),\n",
    "                        df['l3'].iloc[i].lower()])\n",
    "        dstream = \"|\".join([df['filter_text'].iloc[i],tar])\n",
    "        f.write(dstream+\"\\n\")"
   ]
  },
  {
   "cell_type": "code",
   "execution_count": 27,
   "metadata": {},
   "outputs": [],
   "source": [
    "with open('../data/tmp2.txt','w') as f:\n",
    "    for i in range(df.shape[0]):\n",
    "        tar = \",\".join([df['l1'].iloc[i].lower(),\n",
    "                        df['l2'].iloc[i].lower(),\n",
    "                        df['l3'].iloc[i].lower()])\n",
    "        dstream = \"|\".join([df['filter_text2'].iloc[i],tar])\n",
    "        f.write(dstream+\"\\n\")"
   ]
  },
  {
   "cell_type": "code",
   "execution_count": null,
   "metadata": {},
   "outputs": [],
   "source": []
  }
 ],
 "metadata": {
  "kernelspec": {
   "display_name": "base",
   "language": "python",
   "name": "base"
  },
  "language_info": {
   "codemirror_mode": {
    "name": "ipython",
    "version": 3
   },
   "file_extension": ".py",
   "mimetype": "text/x-python",
   "name": "python",
   "nbconvert_exporter": "python",
   "pygments_lexer": "ipython3",
   "version": "3.7.4"
  }
 },
 "nbformat": 4,
 "nbformat_minor": 2
}
