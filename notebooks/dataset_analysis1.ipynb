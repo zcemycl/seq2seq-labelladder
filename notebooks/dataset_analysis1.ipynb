{
 "cells": [
  {
   "cell_type": "code",
   "execution_count": 1,
   "metadata": {},
   "outputs": [],
   "source": [
    "import numpy as np\n",
    "import pandas as pd\n",
    "import nltk\n",
    "PATH = \"../../classification_dataset.csv\""
   ]
  },
  {
   "cell_type": "code",
   "execution_count": 2,
   "metadata": {
    "scrolled": true
   },
   "outputs": [
    {
     "name": "stdout",
     "output_type": "stream",
     "text": [
      "(342781, 4)\n"
     ]
    }
   ],
   "source": [
    "df = pd.read_csv(PATH)\n",
    "print(df.shape)"
   ]
  },
  {
   "cell_type": "markdown",
   "metadata": {},
   "source": [
    "#### Understand the data format\n",
    "- There are 342781 rows, 4 columns. \n",
    "- Column text is the input.\n",
    "- l1,l2 and l3 are levels. "
   ]
  },
  {
   "cell_type": "code",
   "execution_count": 3,
   "metadata": {},
   "outputs": [
    {
     "data": {
      "text/html": [
       "<div>\n",
       "<style scoped>\n",
       "    .dataframe tbody tr th:only-of-type {\n",
       "        vertical-align: middle;\n",
       "    }\n",
       "\n",
       "    .dataframe tbody tr th {\n",
       "        vertical-align: top;\n",
       "    }\n",
       "\n",
       "    .dataframe thead th {\n",
       "        text-align: right;\n",
       "    }\n",
       "</style>\n",
       "<table border=\"1\" class=\"dataframe\">\n",
       "  <thead>\n",
       "    <tr style=\"text-align: right;\">\n",
       "      <th></th>\n",
       "      <th>text</th>\n",
       "      <th>l1</th>\n",
       "      <th>l2</th>\n",
       "      <th>l3</th>\n",
       "    </tr>\n",
       "  </thead>\n",
       "  <tbody>\n",
       "    <tr>\n",
       "      <th>0</th>\n",
       "      <td>Ronald \\\"Ron\\\" D. Boire is an American busines...</td>\n",
       "      <td>Agent</td>\n",
       "      <td>Person</td>\n",
       "      <td>BusinessPerson</td>\n",
       "    </tr>\n",
       "    <tr>\n",
       "      <th>1</th>\n",
       "      <td>Astra 1KR is one of the Astra geostationary sa...</td>\n",
       "      <td>Place</td>\n",
       "      <td>Satellite</td>\n",
       "      <td>ArtificialSatellite</td>\n",
       "    </tr>\n",
       "    <tr>\n",
       "      <th>2</th>\n",
       "      <td>Cycleryon is an extinct genus of decapod crust...</td>\n",
       "      <td>Species</td>\n",
       "      <td>Animal</td>\n",
       "      <td>Crustacean</td>\n",
       "    </tr>\n",
       "    <tr>\n",
       "      <th>3</th>\n",
       "      <td>Angela Maria of the Heart of Jesus, also calle...</td>\n",
       "      <td>Agent</td>\n",
       "      <td>Cleric</td>\n",
       "      <td>Saint</td>\n",
       "    </tr>\n",
       "  </tbody>\n",
       "</table>\n",
       "</div>"
      ],
      "text/plain": [
       "                                                text       l1         l2  \\\n",
       "0  Ronald \\\"Ron\\\" D. Boire is an American busines...    Agent     Person   \n",
       "1  Astra 1KR is one of the Astra geostationary sa...    Place  Satellite   \n",
       "2  Cycleryon is an extinct genus of decapod crust...  Species     Animal   \n",
       "3  Angela Maria of the Heart of Jesus, also calle...    Agent     Cleric   \n",
       "\n",
       "                    l3  \n",
       "0       BusinessPerson  \n",
       "1  ArtificialSatellite  \n",
       "2           Crustacean  \n",
       "3                Saint  "
      ]
     },
     "execution_count": 3,
     "metadata": {},
     "output_type": "execute_result"
    }
   ],
   "source": [
    "df.head(4)"
   ]
  },
  {
   "cell_type": "markdown",
   "metadata": {},
   "source": [
    "- Obviously, the data is not process yet. There are many stopwords, not yet tokenized and lemmaized."
   ]
  },
  {
   "cell_type": "code",
   "execution_count": 4,
   "metadata": {},
   "outputs": [
    {
     "name": "stdout",
     "output_type": "stream",
     "text": [
      "Ronald \\\"Ron\\\" D. Boire is an American businessman. He has served as an executive for several companies, including Barnes & Noble, Brookstone, Sears Canada and Toys R Us.\n"
     ]
    }
   ],
   "source": [
    "print(df['text'].iloc[0])"
   ]
  },
  {
   "cell_type": "code",
   "execution_count": 5,
   "metadata": {},
   "outputs": [
    {
     "name": "stdout",
     "output_type": "stream",
     "text": [
      "count                                                342781\n",
      "unique                                               342781\n",
      "top       The following 183 genera within the Dothideomy...\n",
      "freq                                                      1\n",
      "Name: text, dtype: object\n"
     ]
    }
   ],
   "source": [
    "print(df['text'].describe())"
   ]
  },
  {
   "cell_type": "code",
   "execution_count": 6,
   "metadata": {},
   "outputs": [],
   "source": [
    "df['textcount']=[len(df['text'].iloc[i].split()) for i in range(df.shape[0])]"
   ]
  },
  {
   "cell_type": "code",
   "execution_count": 7,
   "metadata": {},
   "outputs": [
    {
     "data": {
      "text/plain": [
       "count    342781.000000\n",
       "mean        105.525195\n",
       "std          96.220057\n",
       "min           2.000000\n",
       "25%          40.000000\n",
       "50%          74.000000\n",
       "75%         138.000000\n",
       "max         732.000000\n",
       "Name: textcount, dtype: float64"
      ]
     },
     "execution_count": 7,
     "metadata": {},
     "output_type": "execute_result"
    }
   ],
   "source": [
    "df['textcount'].describe()"
   ]
  },
  {
   "cell_type": "markdown",
   "metadata": {},
   "source": [
    "- The number of words in the text ranges from 2 to 732. Median is 74. It is quite long for the input of the deep learning model, may need a preprocessing method to filter some words."
   ]
  },
  {
   "cell_type": "markdown",
   "metadata": {},
   "source": [
    "- First level has 9 classes. 'Agent', 'Device', 'Event', 'Place', 'Species', 'SportsSeason', 'TopicalConcept', 'UnitOfWork', 'Work'. Each with differnt frequencies."
   ]
  },
  {
   "cell_type": "code",
   "execution_count": 8,
   "metadata": {},
   "outputs": [
    {
     "name": "stdout",
     "output_type": "stream",
     "text": [
      "count     342781\n",
      "unique         9\n",
      "top        Agent\n",
      "freq      177341\n",
      "Name: l1, dtype: object\n",
      "['Agent' 'Device' 'Event' 'Place' 'Species' 'SportsSeason'\n",
      " 'TopicalConcept' 'UnitOfWork' 'Work']\n",
      "                  text      l2      l3  textcount\n",
      "l1                                               \n",
      "Agent           177341  177341  177341     177341\n",
      "Device             353     353     353        353\n",
      "Event            27059   27059   27059      27059\n",
      "Place            65128   65128   65128      65128\n",
      "Species          31149   31149   31149      31149\n",
      "SportsSeason      8307    8307    8307       8307\n",
      "TopicalConcept    1115    1115    1115       1115\n",
      "UnitOfWork        2497    2497    2497       2497\n",
      "Work             29832   29832   29832      29832\n"
     ]
    }
   ],
   "source": [
    "print(df['l1'].describe())\n",
    "print(np.unique(df['l1']))\n",
    "print(df.groupby('l1').count())"
   ]
  },
  {
   "cell_type": "markdown",
   "metadata": {},
   "source": [
    "- Each class in level 1 has different classes in level 2.\n",
    "- Each class in level 2 also has different classes in level 3."
   ]
  },
  {
   "cell_type": "code",
   "execution_count": 9,
   "metadata": {},
   "outputs": [
    {
     "name": "stdout",
     "output_type": "stream",
     "text": [
      "count      177341\n",
      "unique         30\n",
      "top       Athlete\n",
      "freq        44163\n",
      "Name: l2, dtype: object\n",
      "                         text     l1     l3  textcount\n",
      "l2                                                    \n",
      "Actor                    1667   1667   1667       1667\n",
      "Artist                   7091   7091   7091       7091\n",
      "Athlete                 44163  44163  44163      44163\n",
      "Boxer                     403    403    403        403\n",
      "BritishRoyalty            685    685    685        685\n",
      "Broadcaster              6549   6549   6549       6549\n",
      "Cleric                   6420   6420   6420       6420\n",
      "Coach                    2691   2691   2691       2691\n",
      "ComicsCharacter           203    203    203        203\n",
      "Company                 11777  11777  11777      11777\n",
      "EducationalInstitution   6306   6306   6306       6306\n",
      "FictionalCharacter       3062   3062   3062       3062\n",
      "GridironFootballPlayer   2696   2696   2696       2696\n",
      "Group                    2659   2659   2659       2659\n",
      "MotorcycleRider           633    633    633        633\n",
      "MusicalArtist             284    284    284        284\n",
      "Organisation            10137  10137  10137      10137\n",
      "OrganisationMember        553    553    553        553\n",
      "Person                  27892  27892  27892      27892\n",
      "Politician              13514  13514  13514      13514\n",
      "Presenter                 318    318    318        318\n",
      "RacingDriver             1593   1593   1593       1593\n",
      "Scientist                 824    824    824        824\n",
      "SportsLeague             3405   3405   3405       3405\n",
      "SportsManager            2695   2695   2695       2695\n",
      "SportsTeam               7968   7968   7968       7968\n",
      "VolleyballPlayer          194    194    194        194\n",
      "WinterSportPlayer        8972   8972   8972       8972\n",
      "Wrestler                  425    425    425        425\n",
      "Writer                   1562   1562   1562       1562\n"
     ]
    }
   ],
   "source": [
    "df1 = df[df['l1']=='Agent']\n",
    "print(df1['l2'].describe())\n",
    "print(df1.groupby('l2').count())"
   ]
  },
  {
   "cell_type": "code",
   "execution_count": 10,
   "metadata": {},
   "outputs": [
    {
     "name": "stdout",
     "output_type": "stream",
     "text": [
      "count          44163\n",
      "unique            27\n",
      "top       GolfPlayer\n",
      "freq            2700\n",
      "Name: l3, dtype: object\n",
      "                               text    l1    l2  textcount\n",
      "l3                                                        \n",
      "AustralianRulesFootballPlayer  2691  2691  2691       2691\n",
      "BadmintonPlayer                1289  1289  1289       1289\n",
      "BaseballPlayer                 2652  2652  2652       2652\n",
      "BasketballPlayer               2696  2696  2696       2696\n",
      "Bodybuilder                     243   243   243        243\n",
      "Canoeist                        410   410   410        410\n",
      "ChessPlayer                    1302  1302  1302       1302\n",
      "Cricketer                      2664  2664  2664       2664\n",
      "Cyclist                        2697  2697  2697       2697\n",
      "DartsPlayer                     525   525   525        525\n",
      "GaelicGamesPlayer              2694  2694  2694       2694\n",
      "GolfPlayer                     2700  2700  2700       2700\n",
      "Gymnast                        2698  2698  2698       2698\n",
      "HandballPlayer                 2035  2035  2035       2035\n",
      "HorseRider                      573   573   573        573\n",
      "Jockey                          496   496   496        496\n",
      "LacrossePlayer                  387   387   387        387\n",
      "MartialArtist                  2693  2693  2693       2693\n",
      "NetballPlayer                   234   234   234        234\n",
      "PokerPlayer                     612   612   612        612\n",
      "Rower                           251   251   251        251\n",
      "RugbyPlayer                    2694  2694  2694       2694\n",
      "SoccerPlayer                   2693  2693  2693       2693\n",
      "SquashPlayer                    378   378   378        378\n",
      "Swimmer                        2691  2691  2691       2691\n",
      "TableTennisPlayer               468   468   468        468\n",
      "TennisPlayer                   2697  2697  2697       2697\n"
     ]
    }
   ],
   "source": [
    "df2 = df1[df1['l2']=='Athlete']\n",
    "print(df2['l3'].describe())\n",
    "print(df2.groupby('l3').count())"
   ]
  },
  {
   "cell_type": "code",
   "execution_count": 11,
   "metadata": {},
   "outputs": [
    {
     "name": "stdout",
     "output_type": "stream",
     "text": [
      "Agent l2: 30\n",
      "  l3: 2 5 27 1 1 3 4 1 1 8 3 2 1 1 1 1 5 1 19 7 1 2 2 5 1 8 1 5 1 3 \n",
      "  subtotal l3:  123\n",
      "Device l2: 1\n",
      "  l3: 1 \n",
      "  subtotal l3:  1\n",
      "Event l2: 6\n",
      "  l3: 2 1 2 5 4 4 \n",
      "  subtotal l3:  18\n",
      "Place l2: 16\n",
      "  l3: 1 1 8 2 1 2 6 1 4 1 2 3 1 2 1 1 \n",
      "  subtotal l3:  37\n",
      "Species l2: 5\n",
      "  l3: 8 1 1 1 6 \n",
      "  subtotal l3:  17\n",
      "SportsSeason l2: 2\n",
      "  l3: 1 3 \n",
      "  subtotal l3:  4\n",
      "TopicalConcept l2: 1\n",
      "  l3: 1 \n",
      "  subtotal l3:  1\n",
      "UnitOfWork l2: 1\n",
      "  l3: 1 \n",
      "  subtotal l3:  1\n",
      "Work l2: 8\n",
      "  l3: 2 2 1 5 3 1 1 2 \n",
      "  subtotal l3:  17\n",
      "Total in l2:  70\n",
      "Total in l3:  219\n"
     ]
    }
   ],
   "source": [
    "total = 0\n",
    "total2 = 0\n",
    "for l1label in np.unique(df['l1']):\n",
    "    tmpdf1 = df[df['l1']==l1label]\n",
    "    print(l1label,\"l2: \",end=\"\")\n",
    "    tmplabels = np.unique(tmpdf1['l2'])\n",
    "    tmpn = len(tmplabels)\n",
    "    print(tmpn)\n",
    "    print(\"  l3: \",end=\"\")\n",
    "    subtotal = 0\n",
    "    for l2label in tmplabels:\n",
    "        tmpdf2 = tmpdf1[tmpdf1['l2']==l2label]\n",
    "        tmplabels2 = np.unique(tmpdf2['l3'])\n",
    "        print(len(tmplabels2),end=\" \")\n",
    "        subtotal+=len(tmplabels2)\n",
    "    print()\n",
    "    print(\"  subtotal l3: \",subtotal)\n",
    "    total2+=subtotal\n",
    "    total+=tmpn\n",
    "print(\"Total in l2: \",total)\n",
    "print(\"Total in l3: \",total2)"
   ]
  },
  {
   "cell_type": "markdown",
   "metadata": {},
   "source": [
    "- There are many labels in each level, level 1 has 6, level 2 has 70 and level 3 has 219. If there are one classifier to classify 6 labels in the first level, 6 classifiers to separate 70 labels, then 70 classifiers to distinguish 219 labels. This is quite repetitive and infeasible. \n",
    "- It might be more doable with sequence-to-sequence encode-decoder network method, since it can decode three labels out with considerations of previous level. "
   ]
  },
  {
   "cell_type": "code",
   "execution_count": null,
   "metadata": {},
   "outputs": [],
   "source": []
  }
 ],
 "metadata": {
  "kernelspec": {
   "display_name": "base",
   "language": "python",
   "name": "base"
  },
  "language_info": {
   "codemirror_mode": {
    "name": "ipython",
    "version": 3
   },
   "file_extension": ".py",
   "mimetype": "text/x-python",
   "name": "python",
   "nbconvert_exporter": "python",
   "pygments_lexer": "ipython3",
   "version": "3.7.4"
  }
 },
 "nbformat": 4,
 "nbformat_minor": 2
}
